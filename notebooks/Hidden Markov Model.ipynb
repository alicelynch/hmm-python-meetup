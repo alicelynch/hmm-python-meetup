{
 "cells": [
  {
   "cell_type": "code",
   "execution_count": 50,
   "metadata": {
    "collapsed": true
   },
   "outputs": [],
   "source": [
    "from hmmlearn import hmm\n",
    "import random\n",
    "import numpy as np\n",
    "from sklearn.utils import check_random_state\n",
    "from itertools import product"
   ]
  },
  {
   "cell_type": "markdown",
   "metadata": {},
   "source": [
    "### Set up System to be Modelled"
   ]
  },
  {
   "cell_type": "code",
   "execution_count": 51,
   "metadata": {
    "collapsed": true
   },
   "outputs": [],
   "source": [
    "states = [\"happy\",\"sad\",\"angry\"]\n",
    "n_states = len(states)"
   ]
  },
  {
   "cell_type": "code",
   "execution_count": 52,
   "metadata": {
    "collapsed": true
   },
   "outputs": [],
   "source": [
    "observations_dict={0:\"rom-coms\",\n",
    "                   1:\"facebook\",\n",
    "                   2:\"dishes\",\n",
    "                   3:\"whiskey\",\n",
    "                   4:\"guitar\"}\n",
    "n_features = len(observations_dict)"
   ]
  },
  {
   "cell_type": "code",
   "execution_count": 58,
   "metadata": {
    "collapsed": false
   },
   "outputs": [],
   "source": [
    "model = hmm.MultinomialHMM(n_components=n_states,\n",
    "                           n_iter=100,\n",
    "                           tol=1,\n",
    "                           verbose=True,\n",
    "                           init_params=\"ste\")"
   ]
  },
  {
   "cell_type": "markdown",
   "metadata": {},
   "source": [
    "### Initialize Model with random _Start Probability_, _Transition Probability_ and _Emission Probability_ "
   ]
  },
  {
   "cell_type": "code",
   "execution_count": 53,
   "metadata": {
    "collapsed": false
   },
   "outputs": [],
   "source": [
    "random_state =check_random_state(1262364)\n",
    "startprob = random_state.rand(n_states)\n",
    "transprob = random_state.rand(n_states, n_states)\n",
    "emissionprob = random_state.rand(n_states, n_features)"
   ]
  },
  {
   "cell_type": "code",
   "execution_count": 54,
   "metadata": {
    "collapsed": true
   },
   "outputs": [],
   "source": [
    "def normalize(a, axis=None):\n",
    "    a_sum = a.sum(axis)\n",
    "    if axis and a.ndim > 1:\n",
    "        a_sum[a_sum == 0] = 1\n",
    "        shape = list(a.shape)\n",
    "        shape[axis] = 1\n",
    "        a_sum.shape = shape\n",
    "    a /= a_sum"
   ]
  },
  {
   "cell_type": "code",
   "execution_count": 55,
   "metadata": {
    "collapsed": false
   },
   "outputs": [],
   "source": [
    "normalize(startprob, axis = 0)\n",
    "normalize(transprob, axis = 1)\n",
    "normalize(emissionprob, axis = 1)"
   ]
  },
  {
   "cell_type": "code",
   "execution_count": 56,
   "metadata": {
    "collapsed": false
   },
   "outputs": [
    {
     "name": "stdout",
     "output_type": "stream",
     "text": [
      "Initial Probability of states:\n",
      " [ 0.66745146  0.30811764  0.02443091]\n",
      "Initial Transition Probability:\n",
      " [[ 0.37170102  0.21095157  0.41734741]\n",
      " [ 0.3429768   0.35836152  0.29866168]\n",
      " [ 0.40965589  0.23887871  0.3514654 ]]\n",
      "Initial Emission Probability:\n",
      " [[ 0.1033951   0.40292229  0.32794463  0.12377851  0.04195948]\n",
      " [ 0.23339948  0.19291119  0.1682474   0.37836137  0.02708056]\n",
      " [ 0.27825058  0.24215855  0.08723548  0.30362295  0.08873244]]\n"
     ]
    }
   ],
   "source": [
    "print(\"Initial Probability of states:\\n\", startprob)\n",
    "print(\"Initial Transition Probability:\\n\", transprob)\n",
    "print(\"Initial Emission Probability:\\n\", emissionprob)"
   ]
  },
  {
   "cell_type": "code",
   "execution_count": 57,
   "metadata": {
    "collapsed": true
   },
   "outputs": [],
   "source": [
    "model.startprob_ = startprob\n",
    "model.transmat_ = transprob\n",
    "model.emissionprob_ = emissionprob"
   ]
  },
  {
   "cell_type": "markdown",
   "metadata": {},
   "source": [
    "### Load data & train model"
   ]
  },
  {
   "cell_type": "code",
   "execution_count": 59,
   "metadata": {
    "collapsed": false
   },
   "outputs": [],
   "source": [
    "observations = np.loadtxt(\"training_observations.csv\", dtype = int)\n",
    "observations = np.array([[x] for x in observations])"
   ]
  },
  {
   "cell_type": "code",
   "execution_count": 60,
   "metadata": {
    "collapsed": false
   },
   "outputs": [
    {
     "name": "stdout",
     "output_type": "stream",
     "text": [
      "[[3]\n",
      " [0]\n",
      " [0]\n",
      " [3]\n",
      " [2]\n",
      " [0]\n",
      " [0]\n",
      " [2]\n",
      " [4]\n",
      " [0]] ...\n",
      "n_observations:  100000\n"
     ]
    }
   ],
   "source": [
    "print(observations[:10], \"...\")\n",
    "print(\"n_observations: \", len(observations))"
   ]
  },
  {
   "cell_type": "code",
   "execution_count": 61,
   "metadata": {
    "collapsed": false
   },
   "outputs": [
    {
     "name": "stdout",
     "output_type": "stream",
     "text": [
      "[3 0 0 3 2 0 0 2 4 0 0 3 0 1 0 1 0 0 4 4] ...\n",
      "['whiskey', 'rom-coms', 'rom-coms', 'whiskey', 'dishes', 'rom-coms', 'rom-coms', 'dishes', 'guitar', 'rom-coms', 'rom-coms', 'whiskey', 'rom-coms', 'facebook', 'rom-coms', 'facebook', 'rom-coms', 'rom-coms', 'guitar', 'guitar'] ...\n"
     ]
    }
   ],
   "source": [
    "print(observations[:20].T[0], \"...\")\n",
    "human_read = [observations_dict[obs] for obs in observations[:20].T[0]] \n",
    "print(human_read, \"...\")"
   ]
  },
  {
   "cell_type": "code",
   "execution_count": 62,
   "metadata": {
    "collapsed": false
   },
   "outputs": [
    {
     "name": "stderr",
     "output_type": "stream",
     "text": [
      "         1     -164747.2373             +nan\n",
      "         2     -153037.1482      +11710.0892\n",
      "         3     -152866.7003        +170.4479\n",
      "         4     -152699.2429        +167.4574\n",
      "         5     -152530.3798        +168.8631\n",
      "         6     -152359.0513        +171.3285\n",
      "         7     -152187.1565        +171.8948\n",
      "         8     -152019.0006        +168.1559\n",
      "         9     -151860.1996        +158.8010\n",
      "        10     -151716.0657        +144.1339\n",
      "        11     -151589.9943        +126.0714\n",
      "        12     -151482.5973        +107.3971\n",
      "        13     -151391.9678         +90.6294\n",
      "        14     -151314.7771         +77.1908\n",
      "        15     -151247.5039         +67.2732\n",
      "        16     -151187.2571         +60.2468\n",
      "        17     -151132.0594         +55.1977\n",
      "        18     -151080.7559         +51.3034\n",
      "        19     -151032.7687         +47.9872\n",
      "        20     -150987.8471         +44.9216\n",
      "        21     -150945.8805         +41.9667\n",
      "        22     -150906.7819         +39.0986\n",
      "        23     -150870.4296         +36.3523\n",
      "        24     -150836.6473         +33.7823\n",
      "        25     -150805.2062         +31.4411\n",
      "        26     -150775.8375         +29.3687\n",
      "        27     -150748.2468         +27.5907\n",
      "        28     -150722.1268         +26.1200\n",
      "        29     -150697.1660         +24.9608\n",
      "        30     -150673.0532         +24.1128\n",
      "        31     -150649.4778         +23.5754\n",
      "        32     -150626.1267         +23.3511\n",
      "        33     -150602.6770         +23.4496\n",
      "        34     -150578.7860         +23.8910\n",
      "        35     -150554.0769         +24.7092\n",
      "        36     -150528.1212         +25.9557\n",
      "        37     -150500.4170         +27.7042\n",
      "        38     -150470.3601         +30.0569\n",
      "        39     -150437.2072         +33.1529\n",
      "        40     -150400.0256         +37.1816\n",
      "        41     -150357.6268         +42.3988\n",
      "        42     -150308.4773         +49.1495\n",
      "        43     -150250.5817         +57.8956\n",
      "        44     -150181.3368         +69.2449\n",
      "        45     -150097.3674         +83.9694\n",
      "        46     -149994.3920        +102.9755\n",
      "        47     -149867.2495        +127.1424\n",
      "        48     -149710.3894        +156.8601\n",
      "        49     -149519.3630        +191.0264\n",
      "        50     -149293.9287        +225.4342\n",
      "        51     -149042.5157        +251.4130\n",
      "        52     -148785.1607        +257.3550\n",
      "        53     -148549.6004        +235.5603\n",
      "        54     -148359.2262        +190.3742\n",
      "        55     -148221.9087        +137.3176\n",
      "        56     -148130.0082         +91.9004\n",
      "        57     -148069.3342         +60.6741\n",
      "        58     -148027.2796         +42.0546\n",
      "        59     -147995.6558         +31.6237\n",
      "        60     -147970.0222         +25.6336\n",
      "        61     -147948.1950         +21.8273\n",
      "        62     -147929.1248         +19.0701\n",
      "        63     -147912.2763         +16.8485\n",
      "        64     -147897.3340         +14.9423\n",
      "        65     -147884.0761         +13.2579\n",
      "        66     -147872.3232         +11.7529\n",
      "        67     -147861.9182         +10.4050\n",
      "        68     -147852.7190          +9.1992\n",
      "        69     -147844.5956          +8.1235\n",
      "        70     -147837.4290          +7.1666\n",
      "        71     -147831.1110          +6.3179\n",
      "        72     -147825.5438          +5.5672\n",
      "        73     -147820.6392          +4.9046\n",
      "        74     -147816.3184          +4.3208\n",
      "        75     -147812.5112          +3.8072\n",
      "        76     -147809.1553          +3.3559\n",
      "        77     -147806.1958          +2.9595\n",
      "        78     -147803.5844          +2.6114\n",
      "        79     -147801.2786          +2.3059\n",
      "        80     -147799.2410          +2.0376\n",
      "        81     -147797.4391          +1.8019\n",
      "        82     -147795.8443          +1.5948\n",
      "        83     -147794.4316          +1.4127\n",
      "        84     -147793.1792          +1.2524\n",
      "        85     -147792.0681          +1.1111\n",
      "        86     -147791.0815          +0.9866\n"
     ]
    }
   ],
   "source": [
    "model_trained = model.fit(observations)"
   ]
  },
  {
   "cell_type": "markdown",
   "metadata": {},
   "source": [
    "### How have the emission and transition probabilities changed?"
   ]
  },
  {
   "cell_type": "code",
   "execution_count": 63,
   "metadata": {
    "collapsed": false
   },
   "outputs": [],
   "source": [
    "emission = model_trained.emissionprob_"
   ]
  },
  {
   "cell_type": "code",
   "execution_count": 64,
   "metadata": {
    "collapsed": false
   },
   "outputs": [
    {
     "name": "stdout",
     "output_type": "stream",
     "text": [
      "\t\t  rom-coms\t  facebook\t  dishes\t  whiskey\t  guitar\n",
      "state_0\t\t0.11\t\t0.10\t\t0.04\t\t0.14\t\t0.60\n",
      "state_1\t\t0.10\t\t0.10\t\t0.30\t\t0.39\t\t0.10\n",
      "state_2\t\t0.62\t\t0.10\t\t0.09\t\t0.09\t\t0.10\n"
     ]
    }
   ],
   "source": [
    "print(\"\\t  \".join([\"\\t\"]+[observations_dict[i] for i in range(0, len(observations_dict))]))\n",
    "for i in range(len(states)):\n",
    "    print(\"\\t\\t\".join([\"state_\" + str(i)] + [ '{:.2f}'.format(j) for j in emission[i]]))"
   ]
  },
  {
   "cell_type": "code",
   "execution_count": 65,
   "metadata": {
    "collapsed": false
   },
   "outputs": [],
   "source": [
    "transition = model_trained.transmat_"
   ]
  },
  {
   "cell_type": "code",
   "execution_count": 66,
   "metadata": {
    "collapsed": false
   },
   "outputs": [
    {
     "name": "stdout",
     "output_type": "stream",
     "text": [
      " \tstate_0\tstate_1\tstate_2\n",
      "state_0\t0.82\t0.05\t0.13\n",
      "state_1\t0.06\t0.78\t0.16\n",
      "state_2\t0.11\t0.12\t0.78\n"
     ]
    }
   ],
   "source": [
    "print(\"\\t\".join([\" \"]+[\"state_\" + str(i) for i in range(0, len(states))]))\n",
    "for i in range(len(states)):\n",
    "    print(\"\\t\".join([\"state_\" + str(i)] + [ '{:.2f}'.format(j) for j in transition[i]]))"
   ]
  },
  {
   "cell_type": "markdown",
   "metadata": {},
   "source": [
    "### How to the states generated by the model map to our understanding of the emotional states?"
   ]
  },
  {
   "cell_type": "code",
   "execution_count": 35,
   "metadata": {
    "collapsed": true
   },
   "outputs": [],
   "source": [
    "state_mapping = {0:\"happy\", 1:\"angry\", 2:\"sad\"}"
   ]
  },
  {
   "cell_type": "code",
   "execution_count": 67,
   "metadata": {
    "collapsed": false
   },
   "outputs": [],
   "source": [
    "create_visualizations(model_trained, observations_dict, state_mapping, \".\")"
   ]
  },
  {
   "cell_type": "code",
   "execution_count": 68,
   "metadata": {
    "collapsed": false
   },
   "outputs": [
    {
     "data": {
      "text/html": [
       "\n",
       "        <iframe\n",
       "            width=\"800\"\n",
       "            height=\"350\"\n",
       "            src=\"emissionprobmat.html\"\n",
       "            frameborder=\"0\"\n",
       "            allowfullscreen\n",
       "        ></iframe>\n",
       "        "
      ],
      "text/plain": [
       "<IPython.lib.display.IFrame at 0x10dfa1080>"
      ]
     },
     "execution_count": 68,
     "metadata": {},
     "output_type": "execute_result"
    }
   ],
   "source": [
    "from IPython.display import IFrame\n",
    "IFrame('emissionprobmat.html', width=800, height=350)"
   ]
  },
  {
   "cell_type": "code",
   "execution_count": 40,
   "metadata": {
    "collapsed": false
   },
   "outputs": [
    {
     "data": {
      "text/html": [
       "\n",
       "        <iframe\n",
       "            width=\"800\"\n",
       "            height=\"350\"\n",
       "            src=\"transmat.html\"\n",
       "            frameborder=\"0\"\n",
       "            allowfullscreen\n",
       "        ></iframe>\n",
       "        "
      ],
      "text/plain": [
       "<IPython.lib.display.IFrame at 0x1112ed898>"
      ]
     },
     "execution_count": 40,
     "metadata": {},
     "output_type": "execute_result"
    }
   ],
   "source": [
    "from IPython.display import IFrame\n",
    "IFrame('transmat.html', width=800, height=350)"
   ]
  },
  {
   "cell_type": "markdown",
   "metadata": {},
   "source": [
    "### What does the robot interpret from observing the human?"
   ]
  },
  {
   "cell_type": "code",
   "execution_count": 69,
   "metadata": {
    "collapsed": false
   },
   "outputs": [
    {
     "name": "stdout",
     "output_type": "stream",
     "text": [
      "[0 4 0 0 0 1 2 0 0 4 4 4 0 4 0 1 4 4 4 3] ...\n"
     ]
    }
   ],
   "source": [
    "observations = np.loadtxt(\"new_observations.csv\", dtype = int)\n",
    "observations = np.array([[x] for x in observations])\n",
    "print(observations[:20].T[0], \"...\")"
   ]
  },
  {
   "cell_type": "code",
   "execution_count": 70,
   "metadata": {
    "collapsed": false
   },
   "outputs": [
    {
     "name": "stdout",
     "output_type": "stream",
     "text": [
      "[1 1 2 2 2 2 2 2 2 0 0 0 0 0 0 0 0 0 0 0] ...\n"
     ]
    }
   ],
   "source": [
    "logprob, robot_hears = model_trained.decode(observations)\n",
    "print(robot_hears[:20], \"...\")"
   ]
  },
  {
   "cell_type": "code",
   "execution_count": 71,
   "metadata": {
    "collapsed": false
   },
   "outputs": [
    {
     "name": "stdout",
     "output_type": "stream",
     "text": [
      "Human does: guitar, guitar, rom-coms, guitar, rom-coms, facebook, guitar, guitar, guitar, whiskey, guitar, rom-coms, whiskey, guitar, dishes, rom-coms, rom-coms, rom-coms, rom-coms, facebook ...\n",
      "\n",
      "Robot thinks: happy, happy, happy, happy, happy, happy, happy, happy, happy, happy, happy, happy, happy, happy, sad, sad, sad, sad, sad, sad ...\n"
     ]
    }
   ],
   "source": [
    "print(\"Human does:\", \", \".join(map(lambda x: observations_dict[x[0]], observations[10:30])),\"...\\n\")\n",
    "print(\"Robot thinks:\", \", \".join(map(lambda x: state_mapping[x], robot_hears[10:30])),\"...\")"
   ]
  },
  {
   "cell_type": "markdown",
   "metadata": {},
   "source": [
    "### How certain is the robot of his interpretation?"
   ]
  },
  {
   "cell_type": "code",
   "execution_count": 72,
   "metadata": {
    "collapsed": true
   },
   "outputs": [],
   "source": [
    "robot_thinks = model_trained.predict_proba(observations)"
   ]
  },
  {
   "cell_type": "code",
   "execution_count": 73,
   "metadata": {
    "collapsed": false
   },
   "outputs": [
    {
     "name": "stdout",
     "output_type": "stream",
     "text": [
      "Human does: guitar\n",
      "Robot thinks: happy: 0.84, angry: 0.05, sad: 0.10\n",
      "\n",
      "Human does: rom-coms\n",
      "Robot thinks: happy: 0.50, angry: 0.08, sad: 0.42\n",
      "\n",
      "Human does: whiskey\n",
      "Robot thinks: happy: 0.50, angry: 0.25, sad: 0.25\n",
      "\n",
      "Human does: guitar\n",
      "Robot thinks: happy: 0.51, angry: 0.22, sad: 0.27\n",
      "\n",
      "Human does: dishes\n",
      "Robot thinks: happy: 0.17, angry: 0.29, sad: 0.54\n",
      "\n",
      "Human does: rom-coms\n",
      "Robot thinks: happy: 0.04, angry: 0.05, sad: 0.91\n",
      "\n",
      "Human does: rom-coms\n",
      "Robot thinks: happy: 0.01, angry: 0.02, sad: 0.97\n",
      "\n",
      "Human does: rom-coms\n",
      "Robot thinks: happy: 0.01, angry: 0.01, sad: 0.98\n",
      "\n",
      "Human does: rom-coms\n",
      "Robot thinks: happy: 0.02, angry: 0.02, sad: 0.95\n",
      "\n",
      "Human does: facebook\n",
      "Robot thinks: happy: 0.09, angry: 0.11, sad: 0.81\n",
      "\n",
      ".....\n"
     ]
    }
   ],
   "source": [
    "for i in range(20,30):\n",
    "    print(\"Human does: {:}\".format(observations_dict[observations[i][0]]))\n",
    "    #print(\"The value is {:,}\".format(x))\n",
    "    print(\"Robot thinks: {:}: {:.2f}, {:}: {:.2f}, {:}: {:.2f}\\n\".format(\n",
    "                                    state_mapping[0], robot_thinks[i][0],\n",
    "                                    state_mapping[1], robot_thinks[i][1],\n",
    "                                    state_mapping[2], robot_thinks[i][2]))\n",
    "print(\".....\")"
   ]
  },
  {
   "cell_type": "code",
   "execution_count": null,
   "metadata": {
    "collapsed": true
   },
   "outputs": [],
   "source": []
  },
  {
   "cell_type": "code",
   "execution_count": null,
   "metadata": {
    "collapsed": true
   },
   "outputs": [],
   "source": []
  },
  {
   "cell_type": "code",
   "execution_count": 37,
   "metadata": {
    "collapsed": true
   },
   "outputs": [],
   "source": [
    "def _create_transmat_nodes(transmat, states_encoding):\n",
    "    \"\"\"\n",
    "    It creates the nodes for a Sankey diagram using a transition matrix and a dictionary for the\n",
    "    states names.\n",
    "    :param transmat: HMM transition matrix\n",
    "    :param states_dict: Dictionary mapping state label to state name {0:'exploring', ... }.\n",
    "            keys must be integers ascending from 0\n",
    "    :return: A list of array with the format: ['origin', 'destination', probability]\n",
    "    \"\"\"\n",
    "\n",
    "    n_states = len(states_encoding)\n",
    "    return [[\"From: \" + states_encoding[i[0]], \"To: \" + states_encoding[i[1]], transmat[i[0], i[1]]]\n",
    "            for i in product(range(n_states), repeat=2)]\n",
    "\n",
    "\n",
    "def _create_emissionprob_nodes(emissionprob, states_encoding, hmm_dict):\n",
    "    \"\"\"\n",
    "    It creates the nodes for a Sankey diagram using a emission prob matrix and a dictionary for the\n",
    "    states names.\n",
    "    :param emissionprob: HMM transition matrix\n",
    "    :param states_dict: Dictionary with the state's names\n",
    "    :param hmm_dict: dictionary used for trained model\n",
    "    :return: A list of array with the format: ['state', 'observation', probability]\n",
    "    \"\"\"\n",
    "\n",
    "    n_states = len(states_encoding)\n",
    "    return [[states_encoding[i[0]], hmm_dict[i[1]],\n",
    "             emissionprob[i[0], i[1]]] for i in product(range(n_states), hmm_dict.keys())]\n",
    "\n",
    "\n",
    "def _create_js(nodes_list, file_path, filename):\n",
    "    \"\"\"\n",
    "    Method to create a html/js file using google charts javascript library for sankey diagrams\n",
    "    :param nodes_list: A list of arrays with the format: ['state', 'observation', probability]\n",
    "    :param file_path: local or s3 location to save file\n",
    "    :param filename: name for file without extension\n",
    "    \"\"\"\n",
    "\n",
    "    header = \"\"\"<html>\n",
    "<script type=\"text/javascript\" src=\"https://www.gstatic.com/charts/loader.js\"></script>\n",
    "       <div id=\"sankey_basic\" style=\"width: 600px; height: 320px;\"></div>\n",
    "       <script>\n",
    "       google.charts.load('current', {'packages':['sankey']});\n",
    "       google.charts.setOnLoadCallback(drawChart);\n",
    "\n",
    "       function drawChart() {\n",
    "       var data = new google.visualization.DataTable();\n",
    "       data.addColumn('string', 'From');\n",
    "       data.addColumn('string', 'To');\n",
    "       data.addColumn('number', 'Weight');\n",
    "       data.addRows(\"\"\"\n",
    "\n",
    "    footer = \"\"\");\n",
    "\n",
    "        // Sets chart options.\n",
    "        var options = {\n",
    "          width: 600,\n",
    "        };\n",
    "\n",
    "        // Instantiates and draws our chart, passing in some options.\n",
    "        var chart = new google.visualization.Sankey(document.getElementById('sankey_basic'));\n",
    "        chart.draw(data, options);\n",
    "      }\n",
    "      </script>\n",
    "</html>\n",
    "    \"\"\"\n",
    "\n",
    "    if file_path[-1] != '/':\n",
    "        file_path += '/'\n",
    "    filename += '.html'\n",
    "\n",
    "    data = header+str(nodes_list)+footer\n",
    "    file = open(file_path+filename, 'w')\n",
    "    file.write(data)\n",
    "    file.close()\n",
    "\n",
    "\n",
    "def create_visualizations(hmm_trained, hmm_dict, states_encoding, file_path):\n",
    "    \"\"\"\n",
    "\n",
    "    :param hmm_trained: trained hmm model\n",
    "    :param hmm_dict: dictionary used for trained model\n",
    "    :param states_encoding: Dictionary mapping state name to state label {'exploring':0, ... }.\n",
    "            As output by model_label_fitting.fit_labels\n",
    "    :param file_path: string of path to directory where html sankey diagrams to be saved\n",
    "    :return: none\n",
    "    \"\"\"\n",
    "    transmat = hmm_trained.transmat_\n",
    "    transmat_nodes = _create_transmat_nodes(transmat, states_encoding)\n",
    "    _create_js(transmat_nodes, file_path, 'transmat')\n",
    "\n",
    "    emissionprob = hmm_trained.emissionprob_\n",
    "    emissionprob_nodes = _create_emissionprob_nodes(emissionprob, states_encoding, hmm_dict)\n",
    "    _create_js(emissionprob_nodes, file_path,'emissionprobmat')"
   ]
  },
  {
   "cell_type": "code",
   "execution_count": null,
   "metadata": {
    "collapsed": true
   },
   "outputs": [],
   "source": []
  }
 ],
 "metadata": {
  "kernelspec": {
   "display_name": "Python 3",
   "language": "python",
   "name": "python3"
  },
  "language_info": {
   "codemirror_mode": {
    "name": "ipython",
    "version": 3
   },
   "file_extension": ".py",
   "mimetype": "text/x-python",
   "name": "python",
   "nbconvert_exporter": "python",
   "pygments_lexer": "ipython3",
   "version": "3.4.4"
  }
 },
 "nbformat": 4,
 "nbformat_minor": 2
}
