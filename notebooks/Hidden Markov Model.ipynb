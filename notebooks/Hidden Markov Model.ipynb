{
 "cells": [
  {
   "cell_type": "code",
   "execution_count": 4,
   "metadata": {
    "collapsed": true
   },
   "outputs": [],
   "source": [
    "from hmmlearn import hmm\n",
    "import random\n",
    "import numpy as np\n",
    "from sklearn.utils import check_random_state\n",
    "from itertools import product"
   ]
  },
  {
   "cell_type": "markdown",
   "metadata": {},
   "source": [
    "### Set up System to be Modelled"
   ]
  },
  {
   "cell_type": "code",
   "execution_count": 5,
   "metadata": {
    "collapsed": true
   },
   "outputs": [],
   "source": [
    "states = [\"happy\",\"sad\",\"angry\"]\n",
    "n_states = len(states)"
   ]
  },
  {
   "cell_type": "code",
   "execution_count": 6,
   "metadata": {
    "collapsed": true
   },
   "outputs": [],
   "source": [
    "observations_dict={0:\"rom-coms\",\n",
    "                   1:\"facebook\",\n",
    "                   2:\"dishes\",\n",
    "                   3:\"whiskey\",\n",
    "                   4:\"guitar\"}\n",
    "n_features = len(observations_dict)"
   ]
  },
  {
   "cell_type": "code",
   "execution_count": 21,
   "metadata": {
    "collapsed": false
   },
   "outputs": [],
   "source": [
    "model = hmm.MultinomialHMM(n_components=n_states,\n",
    "                           n_iter=100,\n",
    "                           tol=1,\n",
    "                           verbose=True,\n",
    "                           init_params=\"ste\")"
   ]
  },
  {
   "cell_type": "markdown",
   "metadata": {},
   "source": [
    "### Initialize Model with random _Start Probability_, _Transition Probability_ and _Emission Probability_ "
   ]
  },
  {
   "cell_type": "code",
   "execution_count": 15,
   "metadata": {
    "collapsed": false
   },
   "outputs": [],
   "source": [
    "random_state =check_random_state(1262364)\n",
    "startprob = random_state.rand(n_states)\n",
    "transprob = random_state.rand(n_states, n_states)\n",
    "emissionprob = random_state.rand(n_states, n_features)"
   ]
  },
  {
   "cell_type": "code",
   "execution_count": 16,
   "metadata": {
    "collapsed": true
   },
   "outputs": [],
   "source": [
    "def normalize(a, axis=None):\n",
    "    a_sum = a.sum(axis)\n",
    "    if axis and a.ndim > 1:\n",
    "        a_sum[a_sum == 0] = 1\n",
    "        shape = list(a.shape)\n",
    "        shape[axis] = 1\n",
    "        a_sum.shape = shape\n",
    "    a /= a_sum"
   ]
  },
  {
   "cell_type": "code",
   "execution_count": 17,
   "metadata": {
    "collapsed": false
   },
   "outputs": [],
   "source": [
    "normalize(startprob, axis = 0)\n",
    "normalize(transprob, axis = 1)\n",
    "normalize(emissionprob, axis = 1)"
   ]
  },
  {
   "cell_type": "code",
   "execution_count": 19,
   "metadata": {
    "collapsed": false
   },
   "outputs": [
    {
     "name": "stdout",
     "output_type": "stream",
     "text": [
      "Initial Probability of states:\n",
      " [ 0.66745146  0.30811764  0.02443091]\n",
      "Initial Transition Probability:\n",
      " [[ 0.37170102  0.21095157  0.41734741]\n",
      " [ 0.3429768   0.35836152  0.29866168]\n",
      " [ 0.40965589  0.23887871  0.3514654 ]]\n",
      "Initial Emission Probability:\n",
      " [[ 0.1033951   0.40292229  0.32794463  0.12377851  0.04195948]\n",
      " [ 0.23339948  0.19291119  0.1682474   0.37836137  0.02708056]\n",
      " [ 0.27825058  0.24215855  0.08723548  0.30362295  0.08873244]]\n"
     ]
    }
   ],
   "source": [
    "print(\"Initial Probability of states:\\n\", startprob)\n",
    "print(\"Initial Transition Probability:\\n\", transprob)\n",
    "print(\"Initial Emission Probability:\\n\", emissionprob)"
   ]
  },
  {
   "cell_type": "code",
   "execution_count": 20,
   "metadata": {
    "collapsed": true
   },
   "outputs": [],
   "source": [
    "model.startprob_ = startprob\n",
    "model.transmat_ = transprob\n",
    "model.emissionprob_ = emissionprob"
   ]
  },
  {
   "cell_type": "markdown",
   "metadata": {},
   "source": [
    "### Load data & train model"
   ]
  },
  {
   "cell_type": "code",
   "execution_count": 22,
   "metadata": {
    "collapsed": false
   },
   "outputs": [],
   "source": [
    "observations = np.loadtxt(\"training_observations.csv\", dtype = int)\n",
    "observations = np.array([[x] for x in observations])"
   ]
  },
  {
   "cell_type": "code",
   "execution_count": 23,
   "metadata": {
    "collapsed": false
   },
   "outputs": [
    {
     "name": "stdout",
     "output_type": "stream",
     "text": [
      "[[0]\n",
      " [4]\n",
      " [0]\n",
      " [0]\n",
      " [0]\n",
      " [1]\n",
      " [2]\n",
      " [0]\n",
      " [0]\n",
      " [4]] ...\n",
      "n_observations:  1000000\n"
     ]
    }
   ],
   "source": [
    "print(observations[:10], \"...\")\n",
    "print(\"n_observations: \", len(observations))"
   ]
  },
  {
   "cell_type": "code",
   "execution_count": 25,
   "metadata": {
    "collapsed": false
   },
   "outputs": [
    {
     "name": "stdout",
     "output_type": "stream",
     "text": [
      "[0 4 0 0 0 1 2 0 0 4 4 4 0 4 0 1 4 4 4 3] ...\n",
      "['rom-coms', 'guitar', 'rom-coms', 'rom-coms', 'rom-coms', 'facebook', 'dishes', 'rom-coms', 'rom-coms', 'guitar', 'guitar', 'guitar', 'rom-coms', 'guitar', 'rom-coms', 'facebook', 'guitar', 'guitar', 'guitar', 'whiskey'] ...\n"
     ]
    }
   ],
   "source": [
    "print(observations[:20].T[0], \"...\")\n",
    "human_read = [observations_dict[obs] for obs in observations[:20].T[0]] \n",
    "print(human_read, \"...\")"
   ]
  },
  {
   "cell_type": "code",
   "execution_count": 26,
   "metadata": {
    "collapsed": false
   },
   "outputs": [
    {
     "name": "stderr",
     "output_type": "stream",
     "text": [
      "         1    -1672500.6529             +nan\n",
      "         2    -1532486.8020     +140013.8509\n",
      "         3    -1531673.8124        +812.9896\n",
      "         4    -1530767.9531        +905.8593\n",
      "         5    -1529708.6971       +1059.2560\n",
      "         6    -1528433.2914       +1275.4057\n",
      "         7    -1526885.0550       +1548.2364\n",
      "         8    -1525034.4099       +1850.6451\n",
      "         9    -1522912.5344       +2121.8755\n",
      "        10    -1520640.5752       +2271.9593\n",
      "        11    -1518417.7706       +2222.8045\n",
      "        12    -1516448.5736       +1969.1971\n",
      "        13    -1514853.4941       +1595.0795\n",
      "        14    -1513637.5943       +1215.8998\n",
      "        15    -1512728.7141        +908.8802\n",
      "        16    -1512034.8208        +693.8933\n",
      "        17    -1511479.3649        +555.4559\n",
      "        18    -1511010.7180        +468.6469\n",
      "        19    -1510598.2404        +412.4776\n",
      "        20    -1510225.2184        +373.0220\n",
      "        21    -1509882.9805        +342.2379\n",
      "        22    -1509567.0180        +315.9624\n",
      "        23    -1509274.7344        +292.2837\n",
      "        24    -1509004.2666        +270.4678\n",
      "        25    -1508753.9431        +250.3235\n",
      "        26    -1508522.0856        +231.8575\n",
      "        27    -1508306.9775        +215.1081\n",
      "        28    -1508106.8970        +200.0805\n",
      "        29    -1507920.1637        +186.7333\n",
      "        30    -1507745.1765        +174.9872\n",
      "        31    -1507580.4357        +164.7408\n",
      "        32    -1507424.5523        +155.8834\n",
      "        33    -1507276.2459        +148.3063\n",
      "        34    -1507134.3374        +141.9086\n",
      "        35    -1506997.7362        +136.6012\n",
      "        36    -1506865.4269        +132.3093\n",
      "        37    -1506736.4541        +128.9728\n",
      "        38    -1506609.9067        +126.5474\n",
      "        39    -1506484.9020        +125.0047\n",
      "        40    -1506360.5686        +124.3334\n",
      "        41    -1506236.0291        +124.5394\n",
      "        42    -1506110.3819        +125.6472\n",
      "        43    -1505982.6811        +127.7008\n",
      "        44    -1505851.9161        +130.7650\n",
      "        45    -1505716.9902        +134.9259\n",
      "        46    -1505576.6981        +140.2921\n",
      "        47    -1505429.7054        +146.9927\n",
      "        48    -1505274.5304        +155.1750\n",
      "        49    -1505109.5348        +164.9956\n",
      "        50    -1504932.9271        +176.6077\n",
      "        51    -1504742.7914        +190.1357\n",
      "        52    -1504537.1531        +205.6383\n",
      "        53    -1504314.1001        +223.0530\n",
      "        54    -1504071.9763        +242.1238\n",
      "        55    -1503809.6594        +262.3169\n",
      "        56    -1503526.9177        +282.7417\n",
      "        57    -1503224.8046        +302.1131\n",
      "        58    -1502906.0075        +318.7971\n",
      "        59    -1502575.0205        +330.9870\n",
      "        60    -1502238.0074        +337.0131\n",
      "        61    -1501902.2792        +335.7282\n",
      "        62    -1501575.4420        +326.8371\n",
      "        63    -1501264.4192        +311.0229\n",
      "        64    -1500974.6174        +289.8018\n",
      "        65    -1500709.4639        +265.1535\n",
      "        66    -1500470.3787        +239.0852\n",
      "        67    -1500257.0960        +213.2827\n",
      "        68    -1500068.1620        +188.9340\n",
      "        69    -1499901.4434        +166.7186\n",
      "        70    -1499754.5440        +146.8994\n",
      "        71    -1499625.0888        +129.4552\n",
      "        72    -1499510.8869        +114.2019\n",
      "        73    -1499410.0025        +100.8844\n",
      "        74    -1499320.7661         +89.2364\n",
      "        75    -1499241.7546         +79.0116\n",
      "        76    -1499171.7568         +69.9978\n",
      "        77    -1499109.7366         +62.0201\n",
      "        78    -1499054.8000         +54.9367\n",
      "        79    -1499006.1663         +48.6337\n",
      "        80    -1498963.1469         +43.0194\n",
      "        81    -1498925.1281         +38.0188\n",
      "        82    -1498891.5593         +33.5689\n",
      "        83    -1498861.9434         +29.6159\n",
      "        84    -1498835.8307         +26.1126\n",
      "        85    -1498812.8143         +23.0165\n",
      "        86    -1498792.5254         +20.2889\n",
      "        87    -1498774.6314         +17.8940\n",
      "        88    -1498758.8323         +15.7991\n",
      "        89    -1498744.8586         +13.9736\n",
      "        90    -1498732.4693         +12.3894\n",
      "        91    -1498721.4490         +11.0202\n",
      "        92    -1498711.6065          +9.8425\n",
      "        93    -1498702.7720          +8.8345\n",
      "        94    -1498694.7956          +7.9764\n",
      "        95    -1498687.5452          +7.2504\n",
      "        96    -1498680.9043          +6.6409\n",
      "        97    -1498674.7708          +6.1335\n",
      "        98    -1498669.0551          +5.7157\n",
      "        99    -1498663.6788          +5.3763\n",
      "       100    -1498658.5729          +5.1059\n"
     ]
    }
   ],
   "source": [
    "model_trained = model.fit(observations)"
   ]
  },
  {
   "cell_type": "markdown",
   "metadata": {},
   "source": [
    "### How have the emission and transition probabilities changed?"
   ]
  },
  {
   "cell_type": "code",
   "execution_count": 27,
   "metadata": {
    "collapsed": false
   },
   "outputs": [],
   "source": [
    "emission = model_trained.emissionprob_"
   ]
  },
  {
   "cell_type": "code",
   "execution_count": 28,
   "metadata": {
    "collapsed": false
   },
   "outputs": [
    {
     "name": "stdout",
     "output_type": "stream",
     "text": [
      " \t\trom-coms\t\tfacebook\t\tdishes\t\twhiskey\t\tguitar\n",
      "state_0\t\t0.16\t\t0.10\t\t0.06\t\t0.06\t\t0.62\n",
      "state_1\t\t0.40\t\t0.10\t\t0.18\t\t0.22\t\t0.10\n",
      "state_2\t\t0.08\t\t0.10\t\t0.03\t\t0.22\t\t0.58\n"
     ]
    }
   ],
   "source": [
    "print(\"\\t\\t\".join([\" \"]+[observations_dict[i] for i in range(0, len(observations_dict))]))\n",
    "for i in range(len(states)):\n",
    "    print(\"\\t\\t\".join([\"state_\" + str(i)] + [ '{:.2f}'.format(j) for j in emission[i]]))"
   ]
  },
  {
   "cell_type": "code",
   "execution_count": 720,
   "metadata": {
    "collapsed": false
   },
   "outputs": [],
   "source": [
    "transition = model_trained.transmat_"
   ]
  },
  {
   "cell_type": "code",
   "execution_count": 721,
   "metadata": {
    "collapsed": false
   },
   "outputs": [
    {
     "name": "stdout",
     "output_type": "stream",
     "text": [
      " \tstate_0\tstate_1\tstate_2\n",
      "state_0\t0.77\t0.06\t0.17\n",
      "state_1\t0.06\t0.75\t0.19\n",
      "state_2\t0.13\t0.10\t0.77\n"
     ]
    }
   ],
   "source": [
    "print(\"\\t\".join([\" \"]+[\"state_\" + str(i) for i in range(0, len(states))]))\n",
    "for i in range(len(states)):\n",
    "    print(\"\\t\".join([\"state_\" + str(i)] + [ '{:.2f}'.format(j) for j in transition[i]]))"
   ]
  },
  {
   "cell_type": "markdown",
   "metadata": {},
   "source": [
    "### How to the states generated by the model map to our understanding of the emotional states?"
   ]
  },
  {
   "cell_type": "code",
   "execution_count": 735,
   "metadata": {
    "collapsed": true
   },
   "outputs": [],
   "source": [
    "state_mapping = {0:\"happy\", 1:\"angry\", 2:\"sad\"}"
   ]
  },
  {
   "cell_type": "code",
   "execution_count": 748,
   "metadata": {
    "collapsed": false
   },
   "outputs": [],
   "source": [
    "create_visualizations(model_trained, observations_dict, state_mapping, \".\")"
   ]
  },
  {
   "cell_type": "code",
   "execution_count": 751,
   "metadata": {
    "collapsed": false
   },
   "outputs": [
    {
     "data": {
      "text/html": [
       "\n",
       "        <iframe\n",
       "            width=\"800\"\n",
       "            height=\"350\"\n",
       "            src=\"emissionprobmat.html\"\n",
       "            frameborder=\"0\"\n",
       "            allowfullscreen\n",
       "        ></iframe>\n",
       "        "
      ],
      "text/plain": [
       "<IPython.lib.display.IFrame at 0x118212860>"
      ]
     },
     "execution_count": 751,
     "metadata": {},
     "output_type": "execute_result"
    }
   ],
   "source": [
    "from IPython.display import IFrame\n",
    "IFrame('emissionprobmat.html', width=800, height=350)"
   ]
  },
  {
   "cell_type": "code",
   "execution_count": 752,
   "metadata": {
    "collapsed": false
   },
   "outputs": [
    {
     "data": {
      "text/html": [
       "\n",
       "        <iframe\n",
       "            width=\"800\"\n",
       "            height=\"350\"\n",
       "            src=\"transmat.html\"\n",
       "            frameborder=\"0\"\n",
       "            allowfullscreen\n",
       "        ></iframe>\n",
       "        "
      ],
      "text/plain": [
       "<IPython.lib.display.IFrame at 0x118212ef0>"
      ]
     },
     "execution_count": 752,
     "metadata": {},
     "output_type": "execute_result"
    }
   ],
   "source": [
    "from IPython.display import IFrame\n",
    "IFrame('transmat.html', width=800, height=350)"
   ]
  },
  {
   "cell_type": "markdown",
   "metadata": {},
   "source": [
    "### What does the robot interpret from observing the human?"
   ]
  },
  {
   "cell_type": "code",
   "execution_count": null,
   "metadata": {
    "collapsed": true
   },
   "outputs": [],
   "source": [
    "observations = np.loadtxt(\"new_observations.csv\", dtype = int)\n",
    "observations = np.array([[x] for x in observations])\n",
    "print(observations[:20].T[0], \"...\")"
   ]
  },
  {
   "cell_type": "code",
   "execution_count": 723,
   "metadata": {
    "collapsed": false
   },
   "outputs": [
    {
     "name": "stdout",
     "output_type": "stream",
     "text": [
      "[1 2 0 0 0 0 0 0 0 0 2 2 2 2 0 0 2 2 2 2 2 0 0 2 2 2 2 2 0 0 0 0 0 1 1 1 1\n",
      " 2 2 2 2 1 1 1 1 1 1 1 1 1]\n"
     ]
    }
   ],
   "source": [
    "logprob, robot_hears = model_trained.decode(observations, algorithm=\"viterbi\")\n",
    "print(robot_hears[:50])"
   ]
  },
  {
   "cell_type": "code",
   "execution_count": 732,
   "metadata": {
    "collapsed": false
   },
   "outputs": [
    {
     "name": "stdout",
     "output_type": "stream",
     "text": [
      "Human does: whiskey, netflix, guitar, facebook, guitar, facebook, guitar, guitar, guitar, guitar, netflix, netflix, netflix, netflix, guitar, guitar, netflix, guitar, netflix, whiskey ...\n",
      "\n",
      "Robot thinks: angry, sad, happy, happy, happy, happy, happy, happy, happy, happy, sad, sad, sad, sad, happy, happy, sad, sad, sad, sad ...\n"
     ]
    }
   ],
   "source": [
    "print(\"Human does:\", \", \".join(map(lambda x: observations_dict[x[0]], observations[:20])),\"...\\n\")\n",
    "print(\"Robot thinks:\", \", \".join(map(lambda x: state_mapping[x], robot_hears[:20])),\"...\")"
   ]
  },
  {
   "cell_type": "markdown",
   "metadata": {},
   "source": [
    "### How certain is the robot of his interpretation?"
   ]
  },
  {
   "cell_type": "code",
   "execution_count": 728,
   "metadata": {
    "collapsed": true
   },
   "outputs": [],
   "source": [
    "robot_thinks = model_trained.predict_proba(observations)"
   ]
  },
  {
   "cell_type": "code",
   "execution_count": 734,
   "metadata": {
    "collapsed": false
   },
   "outputs": [
    {
     "name": "stdout",
     "output_type": "stream",
     "text": [
      "Human does: netflix\n",
      "Robot thinks: happy: 0.13, angry: 0.01, sad: 0.86\n",
      "\n",
      "Human does: netflix\n",
      "Robot thinks: happy: 0.03, angry: 0.00, sad: 0.96\n",
      "\n",
      "Human does: netflix\n",
      "Robot thinks: happy: 0.03, angry: 0.00, sad: 0.97\n",
      "\n",
      "Human does: netflix\n",
      "Robot thinks: happy: 0.11, angry: 0.01, sad: 0.88\n",
      "\n",
      "Human does: guitar\n",
      "Robot thinks: happy: 0.72, angry: 0.02, sad: 0.26\n",
      "\n",
      "Human does: guitar\n",
      "Robot thinks: happy: 0.76, angry: 0.02, sad: 0.22\n",
      "\n",
      "Human does: netflix\n",
      "Robot thinks: happy: 0.43, angry: 0.01, sad: 0.56\n",
      "\n",
      "Human does: guitar\n",
      "Robot thinks: happy: 0.55, angry: 0.02, sad: 0.43\n",
      "\n",
      "Human does: netflix\n",
      "Robot thinks: happy: 0.22, angry: 0.03, sad: 0.76\n",
      "\n",
      "Human does: whiskey\n",
      "Robot thinks: happy: 0.25, angry: 0.13, sad: 0.62\n",
      "\n",
      ".....\n"
     ]
    }
   ],
   "source": [
    "for i in range(10,20):\n",
    "    print(\"Human does: {:}\".format(observations_dict[observations[i][0]]))\n",
    "    #print(\"The value is {:,}\".format(x))\n",
    "    print(\"Robot thinks: {:}: {:.2f}, {:}: {:.2f}, {:}: {:.2f}\\n\".format(\n",
    "                                    state_mapping[0], robot_thinks[i][0],\n",
    "                                    state_mapping[1], robot_thinks[i][1],\n",
    "                                    state_mapping[2], robot_thinks[i][2]))\n",
    "print(\".....\")"
   ]
  },
  {
   "cell_type": "code",
   "execution_count": null,
   "metadata": {
    "collapsed": true
   },
   "outputs": [],
   "source": []
  },
  {
   "cell_type": "code",
   "execution_count": null,
   "metadata": {
    "collapsed": true
   },
   "outputs": [],
   "source": []
  },
  {
   "cell_type": "code",
   "execution_count": 747,
   "metadata": {
    "collapsed": true
   },
   "outputs": [],
   "source": [
    "def _create_transmat_nodes(transmat, states_encoding):\n",
    "    \"\"\"\n",
    "    It creates the nodes for a Sankey diagram using a transition matrix and a dictionary for the\n",
    "    states names.\n",
    "    :param transmat: HMM transition matrix\n",
    "    :param states_dict: Dictionary mapping state label to state name {0:'exploring', ... }.\n",
    "            keys must be integers ascending from 0\n",
    "    :return: A list of array with the format: ['origin', 'destination', probability]\n",
    "    \"\"\"\n",
    "\n",
    "    n_states = len(states_encoding)\n",
    "    return [[\"From: \" + states_encoding[i[0]], \"To: \" + states_encoding[i[1]], transmat[i[0], i[1]]]\n",
    "            for i in product(range(n_states), repeat=2)]\n",
    "\n",
    "\n",
    "def _create_emissionprob_nodes(emissionprob, states_encoding, hmm_dict):\n",
    "    \"\"\"\n",
    "    It creates the nodes for a Sankey diagram using a emission prob matrix and a dictionary for the\n",
    "    states names.\n",
    "    :param emissionprob: HMM transition matrix\n",
    "    :param states_dict: Dictionary with the state's names\n",
    "    :param hmm_dict: dictionary used for trained model\n",
    "    :return: A list of array with the format: ['state', 'observation', probability]\n",
    "    \"\"\"\n",
    "\n",
    "    n_states = len(states_encoding)\n",
    "    return [[states_encoding[i[0]], hmm_dict[i[1]],\n",
    "             emissionprob[i[0], i[1]]] for i in product(range(n_states), hmm_dict.keys())]\n",
    "\n",
    "\n",
    "def _create_js(nodes_list, file_path, filename):\n",
    "    \"\"\"\n",
    "    Method to create a html/js file using google charts javascript library for sankey diagrams\n",
    "    :param nodes_list: A list of arrays with the format: ['state', 'observation', probability]\n",
    "    :param file_path: local or s3 location to save file\n",
    "    :param filename: name for file without extension\n",
    "    \"\"\"\n",
    "\n",
    "    header = \"\"\"<html>\n",
    "<script type=\"text/javascript\" src=\"https://www.gstatic.com/charts/loader.js\"></script>\n",
    "       <div id=\"sankey_basic\" style=\"width: 600px; height: 320px;\"></div>\n",
    "       <script>\n",
    "       google.charts.load('current', {'packages':['sankey']});\n",
    "       google.charts.setOnLoadCallback(drawChart);\n",
    "\n",
    "       function drawChart() {\n",
    "       var data = new google.visualization.DataTable();\n",
    "       data.addColumn('string', 'From');\n",
    "       data.addColumn('string', 'To');\n",
    "       data.addColumn('number', 'Weight');\n",
    "       data.addRows(\"\"\"\n",
    "\n",
    "    footer = \"\"\");\n",
    "\n",
    "        // Sets chart options.\n",
    "        var options = {\n",
    "          width: 600,\n",
    "        };\n",
    "\n",
    "        // Instantiates and draws our chart, passing in some options.\n",
    "        var chart = new google.visualization.Sankey(document.getElementById('sankey_basic'));\n",
    "        chart.draw(data, options);\n",
    "      }\n",
    "      </script>\n",
    "</html>\n",
    "    \"\"\"\n",
    "\n",
    "    if file_path[-1] != '/':\n",
    "        file_path += '/'\n",
    "    filename += '.html'\n",
    "\n",
    "    data = header+str(nodes_list)+footer\n",
    "    file = open(file_path+filename, 'w')\n",
    "    file.write(data)\n",
    "    file.close()\n",
    "\n",
    "\n",
    "def create_visualizations(hmm_trained, hmm_dict, states_encoding, file_path):\n",
    "    \"\"\"\n",
    "\n",
    "    :param hmm_trained: trained hmm model\n",
    "    :param hmm_dict: dictionary used for trained model\n",
    "    :param states_encoding: Dictionary mapping state name to state label {'exploring':0, ... }.\n",
    "            As output by model_label_fitting.fit_labels\n",
    "    :param file_path: string of path to directory where html sankey diagrams to be saved\n",
    "    :return: none\n",
    "    \"\"\"\n",
    "    transmat = hmm_trained.transmat_\n",
    "    transmat_nodes = _create_transmat_nodes(transmat, states_encoding)\n",
    "    _create_js(transmat_nodes, file_path, 'transmat')\n",
    "\n",
    "    emissionprob = hmm_trained.emissionprob_\n",
    "    emissionprob_nodes = _create_emissionprob_nodes(emissionprob, states_encoding, hmm_dict)\n",
    "    _create_js(emissionprob_nodes, file_path,'emissionprobmat')"
   ]
  },
  {
   "cell_type": "code",
   "execution_count": null,
   "metadata": {
    "collapsed": true
   },
   "outputs": [],
   "source": []
  }
 ],
 "metadata": {
  "kernelspec": {
   "display_name": "Python 3",
   "language": "python",
   "name": "python3"
  },
  "language_info": {
   "codemirror_mode": {
    "name": "ipython",
    "version": 3
   },
   "file_extension": ".py",
   "mimetype": "text/x-python",
   "name": "python",
   "nbconvert_exporter": "python",
   "pygments_lexer": "ipython3",
   "version": "3.4.4"
  }
 },
 "nbformat": 4,
 "nbformat_minor": 2
}
