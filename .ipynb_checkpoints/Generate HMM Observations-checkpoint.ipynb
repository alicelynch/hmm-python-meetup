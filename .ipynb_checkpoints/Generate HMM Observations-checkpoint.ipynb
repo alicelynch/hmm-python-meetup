{
 "cells": [
  {
   "cell_type": "code",
   "execution_count": 8,
   "metadata": {
    "collapsed": true
   },
   "outputs": [],
   "source": [
    "from hmmlearn import hmm\n",
    "import random\n",
    "import numpy as np"
   ]
  },
  {
   "cell_type": "code",
   "execution_count": 9,
   "metadata": {
    "collapsed": true
   },
   "outputs": [],
   "source": [
    "states = [\"happy\",\"sad\",\"angry\"]\n",
    "n_components = len(states)"
   ]
  },
  {
   "cell_type": "code",
   "execution_count": 10,
   "metadata": {
    "collapsed": true
   },
   "outputs": [],
   "source": [
    "observations_dict={0:\"netflix\",\n",
    "                   1:\"facebook\",\n",
    "                   2:\"dishes\",\n",
    "                   3:\"whiskey\",\n",
    "                   4:\"guitar\"}\n",
    "n_features = len(observations_dict)"
   ]
  },
  {
   "cell_type": "code",
   "execution_count": 11,
   "metadata": {
    "collapsed": true
   },
   "outputs": [],
   "source": [
    "gen_model = hmm.MultinomialHMM(n_components=n_components,\n",
    "                         n_iter=100,\n",
    "                         tol=1,\n",
    "                         verbose=True,\n",
    "                         init_params='')"
   ]
  },
  {
   "cell_type": "code",
   "execution_count": 12,
   "metadata": {
    "collapsed": true
   },
   "outputs": [],
   "source": [
    "gen_model.startprob_ = np.array([0.5, 0.3, 0.2])\n",
    "\n",
    "gen_model.transmat_ = np.array([\n",
    "    [0.82,  0.14, 0.04],\n",
    "    [0.11,  0.79,  0.10],\n",
    "    [0.05, 0.16, 0.81]\n",
    "])\n",
    "\n",
    "gen_model.emissionprob_ = np.array([\n",
    "    [0.1, 0.1, 0.05, 0.15, 0.6],\n",
    "    [0.6, 0.1, 0.1, 0.1, 0.1],\n",
    "    [0.1, 0.1, 0.3, 0.4, 0.1]\n",
    "])"
   ]
  },
  {
   "cell_type": "code",
   "execution_count": 13,
   "metadata": {
    "collapsed": true
   },
   "outputs": [],
   "source": [
    "observations, s = gen_model.sample(10000)"
   ]
  },
  {
   "cell_type": "code",
   "execution_count": 14,
   "metadata": {
    "collapsed": true
   },
   "outputs": [],
   "source": [
    "np.savetxt(\"observations.csv\", observations, fmt = \"%1i\",delimiter = \",\")"
   ]
  },
  {
   "cell_type": "code",
   "execution_count": 15,
   "metadata": {
    "collapsed": false
   },
   "outputs": [
    {
     "data": {
      "text/plain": [
       "array([[3],\n",
       "       [0],\n",
       "       [4],\n",
       "       ..., \n",
       "       [2],\n",
       "       [0],\n",
       "       [0]])"
      ]
     },
     "execution_count": 15,
     "metadata": {},
     "output_type": "execute_result"
    }
   ],
   "source": [
    "observations"
   ]
  },
  {
   "cell_type": "code",
   "execution_count": null,
   "metadata": {
    "collapsed": true
   },
   "outputs": [],
   "source": []
  }
 ],
 "metadata": {
  "kernelspec": {
   "display_name": "Python 3",
   "language": "python",
   "name": "python3"
  },
  "language_info": {
   "codemirror_mode": {
    "name": "ipython",
    "version": 3
   },
   "file_extension": ".py",
   "mimetype": "text/x-python",
   "name": "python",
   "nbconvert_exporter": "python",
   "pygments_lexer": "ipython3",
   "version": "3.4.4"
  }
 },
 "nbformat": 4,
 "nbformat_minor": 2
}
