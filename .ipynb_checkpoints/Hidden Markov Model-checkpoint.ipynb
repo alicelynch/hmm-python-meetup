{
 "cells": [
  {
   "cell_type": "code",
   "execution_count": 694,
   "metadata": {
    "collapsed": true
   },
   "outputs": [],
   "source": [
    "from hmmlearn import hmm\n",
    "import random\n",
    "import numpy as np\n",
    "from sklearn.utils import check_random_state\n",
    "from itertools import product"
   ]
  },
  {
   "cell_type": "markdown",
   "metadata": {},
   "source": [
    "### Set up System to be Modelled"
   ]
  },
  {
   "cell_type": "code",
   "execution_count": 695,
   "metadata": {
    "collapsed": true
   },
   "outputs": [],
   "source": [
    "states = [\"happy\",\"sad\",\"angry\"]\n",
    "n_states = len(states)"
   ]
  },
  {
   "cell_type": "code",
   "execution_count": 696,
   "metadata": {
    "collapsed": true
   },
   "outputs": [],
   "source": [
    "observations_dict={0:\"netflix\",\n",
    "                   1:\"facebook\",\n",
    "                   2:\"dishes\",\n",
    "                   3:\"whiskey\",\n",
    "                   4:\"guitar\"}\n",
    "n_features = len(observations_dict)"
   ]
  },
  {
   "cell_type": "code",
   "execution_count": 711,
   "metadata": {
    "collapsed": true
   },
   "outputs": [],
   "source": [
    "model = hmm.MultinomialHMM(n_components=n_states,\n",
    "                         n_iter=100,\n",
    "                         tol=1,\n",
    "                         verbose=True,\n",
    "                         init_params=\"\")"
   ]
  },
  {
   "cell_type": "markdown",
   "metadata": {},
   "source": [
    "### Initialize Model with random _Start Probability_, _Emission Probability_ and _Transition Probability_"
   ]
  },
  {
   "cell_type": "code",
   "execution_count": 706,
   "metadata": {
    "collapsed": false
   },
   "outputs": [],
   "source": [
    "random_state =check_random_state(1262364)\n",
    "startprob = random_state.rand(n_states)\n",
    "transprob = random_state.rand(n_states, n_states)\n",
    "emissionprob = random_state.rand(n_states, n_features)"
   ]
  },
  {
   "cell_type": "code",
   "execution_count": 707,
   "metadata": {
    "collapsed": true
   },
   "outputs": [],
   "source": [
    "def normalize(a, axis=None):\n",
    "    a_sum = a.sum(axis)\n",
    "    if axis and a.ndim > 1:\n",
    "        a_sum[a_sum == 0] = 1\n",
    "        shape = list(a.shape)\n",
    "        shape[axis] = 1\n",
    "        a_sum.shape = shape\n",
    "    a /= a_sum"
   ]
  },
  {
   "cell_type": "code",
   "execution_count": 708,
   "metadata": {
    "collapsed": false
   },
   "outputs": [],
   "source": [
    "normalize(startprob, axis = 0)\n",
    "normalize(transprob, axis = 1)\n",
    "normalize(emissionprob, axis = 1)"
   ]
  },
  {
   "cell_type": "code",
   "execution_count": 709,
   "metadata": {
    "collapsed": false
   },
   "outputs": [
    {
     "name": "stdout",
     "output_type": "stream",
     "text": [
      "Initial Probability of states:\n",
      " [ 0.66745146  0.30811764  0.02443091]\n",
      "Initial Emission Probability:\n",
      " [[ 0.1033951   0.40292229  0.32794463  0.12377851  0.04195948]\n",
      " [ 0.23339948  0.19291119  0.1682474   0.37836137  0.02708056]\n",
      " [ 0.27825058  0.24215855  0.08723548  0.30362295  0.08873244]]\n",
      "Initial Transition Probability:\n",
      " [[ 0.37170102  0.21095157  0.41734741]\n",
      " [ 0.3429768   0.35836152  0.29866168]\n",
      " [ 0.40965589  0.23887871  0.3514654 ]]\n"
     ]
    }
   ],
   "source": [
    "print(\"Initial Probability of states:\\n\", startprob)\n",
    "print(\"Initial Emission Probability:\\n\", emissionprob)\n",
    "print(\"Initial Transition Probability:\\n\", transprob)"
   ]
  },
  {
   "cell_type": "code",
   "execution_count": 710,
   "metadata": {
    "collapsed": true
   },
   "outputs": [],
   "source": [
    "model.startprob_ = startprob\n",
    "model.transmat_ = transprob\n",
    "model.emissionprob_ = emissionprob"
   ]
  },
  {
   "cell_type": "markdown",
   "metadata": {},
   "source": [
    "### Load data & train model"
   ]
  },
  {
   "cell_type": "code",
   "execution_count": 712,
   "metadata": {
    "collapsed": false
   },
   "outputs": [],
   "source": [
    "observations = np.loadtxt(\"observations.csv\", dtype = int)\n",
    "observations = np.array([[x] for x in observations])"
   ]
  },
  {
   "cell_type": "code",
   "execution_count": 713,
   "metadata": {
    "collapsed": false
   },
   "outputs": [
    {
     "name": "stdout",
     "output_type": "stream",
     "text": [
      "[[3]\n",
      " [0]\n",
      " [4]\n",
      " [1]\n",
      " [4]\n",
      " [1]\n",
      " [4]\n",
      " [4]\n",
      " [4]\n",
      " [4]] ...\n",
      "n_observations:  10000\n"
     ]
    }
   ],
   "source": [
    "print(observations[:10], \"...\")\n",
    "print(\"n_observations: \", len(observations))"
   ]
  },
  {
   "cell_type": "code",
   "execution_count": 716,
   "metadata": {
    "collapsed": false
   },
   "outputs": [
    {
     "name": "stdout",
     "output_type": "stream",
     "text": [
      "[3 0 4 1 4 1 4 4 4 4 0 0 0 0 4 4 0 4 0 3] ...\n",
      "['whiskey', 'netflix', 'guitar', 'facebook', 'guitar', 'facebook', 'guitar', 'guitar', 'guitar', 'guitar', 'netflix', 'netflix', 'netflix', 'netflix', 'guitar', 'guitar', 'netflix', 'guitar', 'netflix', 'whiskey'] ...\n"
     ]
    }
   ],
   "source": [
    "print(observations[:20].T[0], \"...\")\n",
    "human_read = [observations_dict[obs] for obs in observations[:20].T[0]] \n",
    "print(read, \"...\")"
   ]
  },
  {
   "cell_type": "code",
   "execution_count": 717,
   "metadata": {
    "collapsed": false
   },
   "outputs": [
    {
     "name": "stderr",
     "output_type": "stream",
     "text": [
      "         1      -17490.3570             +nan\n",
      "         2      -15323.5883       +2166.7687\n",
      "         3      -15312.7193         +10.8690\n",
      "         4      -15300.9015         +11.8178\n",
      "         5      -15287.5741         +13.3274\n",
      "         6      -15272.2053         +15.3689\n",
      "         7      -15254.3442         +17.8611\n",
      "         8      -15233.7267         +20.6175\n",
      "         9      -15210.4257         +23.3010\n",
      "        10      -15184.9448         +25.4810\n",
      "        11      -15158.0750         +26.8698\n",
      "        12      -15130.4227         +27.6522\n",
      "        13      -15101.8459         +28.5769\n",
      "        14      -15071.3245         +30.5214\n",
      "        15      -15037.6432         +33.6813\n",
      "        16      -15000.7285         +36.9147\n",
      "        17      -14962.7902         +37.9383\n",
      "        18      -14927.9300         +34.8602\n",
      "        19      -14899.8694         +28.0606\n",
      "        20      -14879.7775         +20.0918\n",
      "        21      -14866.3089         +13.4686\n",
      "        22      -14857.2106          +9.0983\n",
      "        23      -14850.6078          +6.6028\n",
      "        24      -14845.3441          +5.2637\n",
      "        25      -14840.8147          +4.5294\n",
      "        26      -14836.7305          +4.0842\n",
      "        27      -14832.9599          +3.7706\n",
      "        28      -14829.4452          +3.5147\n",
      "        29      -14826.1628          +3.2825\n",
      "        30      -14823.1042          +3.0585\n",
      "        31      -14820.2677          +2.8366\n",
      "        32      -14817.6526          +2.6151\n",
      "        33      -14815.2573          +2.3953\n",
      "        34      -14813.0781          +2.1792\n",
      "        35      -14811.1084          +1.9697\n",
      "        36      -14809.3391          +1.7693\n",
      "        37      -14807.7590          +1.5802\n",
      "        38      -14806.3550          +1.4040\n",
      "        39      -14805.1133          +1.2417\n",
      "        40      -14804.0196          +1.0937\n",
      "        41      -14803.0596          +0.9599\n"
     ]
    }
   ],
   "source": [
    "model_trained = model.fit(observations)"
   ]
  },
  {
   "cell_type": "markdown",
   "metadata": {},
   "source": [
    "### How have the emission and transition probabilities changed?"
   ]
  },
  {
   "cell_type": "code",
   "execution_count": 718,
   "metadata": {
    "collapsed": false
   },
   "outputs": [],
   "source": [
    "emission = model_trained.emissionprob_"
   ]
  },
  {
   "cell_type": "code",
   "execution_count": 719,
   "metadata": {
    "collapsed": false
   },
   "outputs": [
    {
     "name": "stdout",
     "output_type": "stream",
     "text": [
      " \t\tnetflix\t\tfacebook\t\tdishes\t\twhiskey\t\tguitar\n",
      "state_0\t\t0.09\t\t0.11\t\t0.05\t\t0.13\t\t0.62\n",
      "state_1\t\t0.06\t\t0.12\t\t0.32\t\t0.42\t\t0.09\n",
      "state_2\t\t0.62\t\t0.09\t\t0.10\t\t0.11\t\t0.09\n"
     ]
    }
   ],
   "source": [
    "print(\"\\t\\t\".join([\" \"]+[observations_dict[i] for i in range(0, len(observations_dict))]))\n",
    "for i in range(len(states)):\n",
    "    print(\"\\t\\t\".join([\"state_\" + str(i)] + [ '{:.2f}'.format(j) for j in emission[i]]))"
   ]
  },
  {
   "cell_type": "code",
   "execution_count": 720,
   "metadata": {
    "collapsed": false
   },
   "outputs": [],
   "source": [
    "transition = model_trained.transmat_"
   ]
  },
  {
   "cell_type": "code",
   "execution_count": 721,
   "metadata": {
    "collapsed": false
   },
   "outputs": [
    {
     "name": "stdout",
     "output_type": "stream",
     "text": [
      " \tstate_0\tstate_1\tstate_2\n",
      "state_0\t0.77\t0.06\t0.17\n",
      "state_1\t0.06\t0.75\t0.19\n",
      "state_2\t0.13\t0.10\t0.77\n"
     ]
    }
   ],
   "source": [
    "print(\"\\t\".join([\" \"]+[\"state_\" + str(i) for i in range(0, len(states))]))\n",
    "for i in range(len(states)):\n",
    "    print(\"\\t\".join([\"state_\" + str(i)] + [ '{:.2f}'.format(j) for j in transition[i]]))"
   ]
  },
  {
   "cell_type": "markdown",
   "metadata": {},
   "source": [
    "### How to the states generated by the model map to our understanding of the emotional states?"
   ]
  },
  {
   "cell_type": "code",
   "execution_count": 735,
   "metadata": {
    "collapsed": true
   },
   "outputs": [],
   "source": [
    "state_mapping = {0:\"happy\", 1:\"angry\", 2:\"sad\"}"
   ]
  },
  {
   "cell_type": "code",
   "execution_count": 748,
   "metadata": {
    "collapsed": false
   },
   "outputs": [],
   "source": [
    "create_visualizations(model_trained, observations_dict, state_mapping, \".\")"
   ]
  },
  {
   "cell_type": "code",
   "execution_count": 751,
   "metadata": {
    "collapsed": false
   },
   "outputs": [
    {
     "data": {
      "text/html": [
       "\n",
       "        <iframe\n",
       "            width=\"800\"\n",
       "            height=\"350\"\n",
       "            src=\"emissionprobmat.html\"\n",
       "            frameborder=\"0\"\n",
       "            allowfullscreen\n",
       "        ></iframe>\n",
       "        "
      ],
      "text/plain": [
       "<IPython.lib.display.IFrame at 0x118212860>"
      ]
     },
     "execution_count": 751,
     "metadata": {},
     "output_type": "execute_result"
    }
   ],
   "source": [
    "from IPython.display import IFrame\n",
    "IFrame('emissionprobmat.html', width=800, height=350)"
   ]
  },
  {
   "cell_type": "code",
   "execution_count": 752,
   "metadata": {
    "collapsed": false
   },
   "outputs": [
    {
     "data": {
      "text/html": [
       "\n",
       "        <iframe\n",
       "            width=\"800\"\n",
       "            height=\"350\"\n",
       "            src=\"transmat.html\"\n",
       "            frameborder=\"0\"\n",
       "            allowfullscreen\n",
       "        ></iframe>\n",
       "        "
      ],
      "text/plain": [
       "<IPython.lib.display.IFrame at 0x118212ef0>"
      ]
     },
     "execution_count": 752,
     "metadata": {},
     "output_type": "execute_result"
    }
   ],
   "source": [
    "from IPython.display import IFrame\n",
    "IFrame('transmat.html', width=800, height=350)"
   ]
  },
  {
   "cell_type": "markdown",
   "metadata": {},
   "source": [
    "### What does the robot interpret from observing the human?"
   ]
  },
  {
   "cell_type": "code",
   "execution_count": 723,
   "metadata": {
    "collapsed": false
   },
   "outputs": [
    {
     "name": "stdout",
     "output_type": "stream",
     "text": [
      "[1 2 0 0 0 0 0 0 0 0 2 2 2 2 0 0 2 2 2 2 2 0 0 2 2 2 2 2 0 0 0 0 0 1 1 1 1\n",
      " 2 2 2 2 1 1 1 1 1 1 1 1 1]\n"
     ]
    }
   ],
   "source": [
    "logprob, robot_hears = model_trained.decode(observations, algorithm=\"viterbi\")\n",
    "print(robot_hears[:50])"
   ]
  },
  {
   "cell_type": "code",
   "execution_count": 732,
   "metadata": {
    "collapsed": false
   },
   "outputs": [
    {
     "name": "stdout",
     "output_type": "stream",
     "text": [
      "Human does: whiskey, netflix, guitar, facebook, guitar, facebook, guitar, guitar, guitar, guitar, netflix, netflix, netflix, netflix, guitar, guitar, netflix, guitar, netflix, whiskey ...\n",
      "\n",
      "Robot thinks: angry, sad, happy, happy, happy, happy, happy, happy, happy, happy, sad, sad, sad, sad, happy, happy, sad, sad, sad, sad ...\n"
     ]
    }
   ],
   "source": [
    "print(\"Human does:\", \", \".join(map(lambda x: observations_dict[x[0]], observations[:20])),\"...\\n\")\n",
    "print(\"Robot thinks:\", \", \".join(map(lambda x: state_mapping[x], robot_hears[:20])),\"...\")"
   ]
  },
  {
   "cell_type": "markdown",
   "metadata": {},
   "source": [
    "### How certain is the robot of his interpretation?"
   ]
  },
  {
   "cell_type": "code",
   "execution_count": 728,
   "metadata": {
    "collapsed": true
   },
   "outputs": [],
   "source": [
    "robot_thinks = model_trained.predict_proba(observations)"
   ]
  },
  {
   "cell_type": "code",
   "execution_count": 734,
   "metadata": {
    "collapsed": false
   },
   "outputs": [
    {
     "name": "stdout",
     "output_type": "stream",
     "text": [
      "Human does: netflix\n",
      "Robot thinks: happy: 0.13, angry: 0.01, sad: 0.86\n",
      "\n",
      "Human does: netflix\n",
      "Robot thinks: happy: 0.03, angry: 0.00, sad: 0.96\n",
      "\n",
      "Human does: netflix\n",
      "Robot thinks: happy: 0.03, angry: 0.00, sad: 0.97\n",
      "\n",
      "Human does: netflix\n",
      "Robot thinks: happy: 0.11, angry: 0.01, sad: 0.88\n",
      "\n",
      "Human does: guitar\n",
      "Robot thinks: happy: 0.72, angry: 0.02, sad: 0.26\n",
      "\n",
      "Human does: guitar\n",
      "Robot thinks: happy: 0.76, angry: 0.02, sad: 0.22\n",
      "\n",
      "Human does: netflix\n",
      "Robot thinks: happy: 0.43, angry: 0.01, sad: 0.56\n",
      "\n",
      "Human does: guitar\n",
      "Robot thinks: happy: 0.55, angry: 0.02, sad: 0.43\n",
      "\n",
      "Human does: netflix\n",
      "Robot thinks: happy: 0.22, angry: 0.03, sad: 0.76\n",
      "\n",
      "Human does: whiskey\n",
      "Robot thinks: happy: 0.25, angry: 0.13, sad: 0.62\n",
      "\n",
      ".....\n"
     ]
    }
   ],
   "source": [
    "for i in range(10,20):\n",
    "    print(\"Human does: {:}\".format(observations_dict[observations[i][0]]))\n",
    "    #print(\"The value is {:,}\".format(x))\n",
    "    print(\"Robot thinks: {:}: {:.2f}, {:}: {:.2f}, {:}: {:.2f}\\n\".format(\n",
    "                                    state_mapping[0], robot_thinks[i][0],\n",
    "                                    state_mapping[1], robot_thinks[i][1],\n",
    "                                    state_mapping[2], robot_thinks[i][2]))\n",
    "print(\".....\")"
   ]
  },
  {
   "cell_type": "code",
   "execution_count": null,
   "metadata": {
    "collapsed": true
   },
   "outputs": [],
   "source": []
  },
  {
   "cell_type": "code",
   "execution_count": null,
   "metadata": {
    "collapsed": true
   },
   "outputs": [],
   "source": []
  },
  {
   "cell_type": "code",
   "execution_count": 747,
   "metadata": {
    "collapsed": true
   },
   "outputs": [],
   "source": [
    "def _create_transmat_nodes(transmat, states_encoding):\n",
    "    \"\"\"\n",
    "    It creates the nodes for a Sankey diagram using a transition matrix and a dictionary for the\n",
    "    states names.\n",
    "    :param transmat: HMM transition matrix\n",
    "    :param states_dict: Dictionary mapping state label to state name {0:'exploring', ... }.\n",
    "            keys must be integers ascending from 0\n",
    "    :return: A list of array with the format: ['origin', 'destination', probability]\n",
    "    \"\"\"\n",
    "\n",
    "    n_states = len(states_encoding)\n",
    "    return [[\"From: \" + states_encoding[i[0]], \"To: \" + states_encoding[i[1]], transmat[i[0], i[1]]]\n",
    "            for i in product(range(n_states), repeat=2)]\n",
    "\n",
    "\n",
    "def _create_emissionprob_nodes(emissionprob, states_encoding, hmm_dict):\n",
    "    \"\"\"\n",
    "    It creates the nodes for a Sankey diagram using a emission prob matrix and a dictionary for the\n",
    "    states names.\n",
    "    :param emissionprob: HMM transition matrix\n",
    "    :param states_dict: Dictionary with the state's names\n",
    "    :param hmm_dict: dictionary used for trained model\n",
    "    :return: A list of array with the format: ['state', 'observation', probability]\n",
    "    \"\"\"\n",
    "\n",
    "    n_states = len(states_encoding)\n",
    "    return [[states_encoding[i[0]], hmm_dict[i[1]],\n",
    "             emissionprob[i[0], i[1]]] for i in product(range(n_states), hmm_dict.keys())]\n",
    "\n",
    "\n",
    "def _create_js(nodes_list, file_path, filename):\n",
    "    \"\"\"\n",
    "    Method to create a html/js file using google charts javascript library for sankey diagrams\n",
    "    :param nodes_list: A list of arrays with the format: ['state', 'observation', probability]\n",
    "    :param file_path: local or s3 location to save file\n",
    "    :param filename: name for file without extension\n",
    "    \"\"\"\n",
    "\n",
    "    header = \"\"\"<html>\n",
    "<script type=\"text/javascript\" src=\"https://www.gstatic.com/charts/loader.js\"></script>\n",
    "       <div id=\"sankey_basic\" style=\"width: 600px; height: 320px;\"></div>\n",
    "       <script>\n",
    "       google.charts.load('current', {'packages':['sankey']});\n",
    "       google.charts.setOnLoadCallback(drawChart);\n",
    "\n",
    "       function drawChart() {\n",
    "       var data = new google.visualization.DataTable();\n",
    "       data.addColumn('string', 'From');\n",
    "       data.addColumn('string', 'To');\n",
    "       data.addColumn('number', 'Weight');\n",
    "       data.addRows(\"\"\"\n",
    "\n",
    "    footer = \"\"\");\n",
    "\n",
    "        // Sets chart options.\n",
    "        var options = {\n",
    "          width: 600,\n",
    "        };\n",
    "\n",
    "        // Instantiates and draws our chart, passing in some options.\n",
    "        var chart = new google.visualization.Sankey(document.getElementById('sankey_basic'));\n",
    "        chart.draw(data, options);\n",
    "      }\n",
    "      </script>\n",
    "</html>\n",
    "    \"\"\"\n",
    "\n",
    "    if file_path[-1] != '/':\n",
    "        file_path += '/'\n",
    "    filename += '.html'\n",
    "\n",
    "    data = header+str(nodes_list)+footer\n",
    "    file = open(file_path+filename, 'w')\n",
    "    file.write(data)\n",
    "    file.close()\n",
    "\n",
    "\n",
    "def create_visualizations(hmm_trained, hmm_dict, states_encoding, file_path):\n",
    "    \"\"\"\n",
    "\n",
    "    :param hmm_trained: trained hmm model\n",
    "    :param hmm_dict: dictionary used for trained model\n",
    "    :param states_encoding: Dictionary mapping state name to state label {'exploring':0, ... }.\n",
    "            As output by model_label_fitting.fit_labels\n",
    "    :param file_path: string of path to directory where html sankey diagrams to be saved\n",
    "    :return: none\n",
    "    \"\"\"\n",
    "    transmat = hmm_trained.transmat_\n",
    "    transmat_nodes = _create_transmat_nodes(transmat, states_encoding)\n",
    "    _create_js(transmat_nodes, file_path, 'transmat')\n",
    "\n",
    "    emissionprob = hmm_trained.emissionprob_\n",
    "    emissionprob_nodes = _create_emissionprob_nodes(emissionprob, states_encoding, hmm_dict)\n",
    "    _create_js(emissionprob_nodes, file_path,'emissionprobmat')"
   ]
  },
  {
   "cell_type": "code",
   "execution_count": null,
   "metadata": {
    "collapsed": true
   },
   "outputs": [],
   "source": []
  }
 ],
 "metadata": {
  "kernelspec": {
   "display_name": "Python 3",
   "language": "python",
   "name": "python3"
  },
  "language_info": {
   "codemirror_mode": {
    "name": "ipython",
    "version": 3
   },
   "file_extension": ".py",
   "mimetype": "text/x-python",
   "name": "python",
   "nbconvert_exporter": "python",
   "pygments_lexer": "ipython3",
   "version": "3.4.4"
  }
 },
 "nbformat": 4,
 "nbformat_minor": 2
}
